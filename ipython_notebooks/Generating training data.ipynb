{
 "cells": [
  {
   "cell_type": "markdown",
   "metadata": {},
   "source": [
    "## Phase 0\n",
    "\n",
    "### 1. Testing to see if Dato's graphlab-create can classify planetary imaging data.\n",
    "\n",
    "#### a. First, just do their script for MNIST\n",
    "\n",
    "* Perhaps 3 minutes to train that last layer of their deep network.\n",
    "* Just a hair under 0.98% accurate.\n",
    "  \n",
    "#### b. Very simple two-class case\n",
    "\n",
    "* lunar images from http://target.lroc.asu.edu/q3/#\n",
    "* screen grabs using xv to create:\n",
    "  * highDensityCraters1806x880+83+132LowerLeft.png\n",
    "  * highDensityCraters1806x880+83+132LowerRight.png\n",
    "  * highDensityCraters1806x880+83+132MiddleMiddle.png\n",
    "  * lowDensityMare1806x880+83+132LeftMiddle.png\n",
    "  \n",
    "Now to chop these into little pieces, and bring the mean brightness to 50%."
   ]
  },
  {
   "cell_type": "code",
   "execution_count": 40,
   "metadata": {
    "collapsed": false
   },
   "outputs": [
    {
     "data": {
      "text/plain": [
       "0.309603"
      ]
     },
     "execution_count": 40,
     "metadata": {},
     "output_type": "execute_result"
    }
   ],
   "source": [
    "from subprocess import check_output\n",
    "mean_brightness = check_output([\"identify\", '-format', '%[fx:mean]',\n",
    "                                'highDensityCraters1806x880+83+132MiddleMiddle.png'],\n",
    "                               stderr=subprocess.STDOUT)\n",
    "mean_brightness = float(mean_brightness)\n",
    "mean_brightness"
   ]
  },
  {
   "cell_type": "code",
   "execution_count": 4,
   "metadata": {
    "collapsed": false
   },
   "outputs": [
    {
     "name": "stdout",
     "output_type": "stream",
     "text": [
      "/home/wilber/work/Galvanize/gcp-data/lunarPhotos/originals\n"
     ]
    },
    {
     "data": {
      "text/plain": [
       "u'/home/wilber/work/Galvanize/gcp-data/lunarPhotos/originals'"
      ]
     },
     "execution_count": 4,
     "metadata": {},
     "output_type": "execute_result"
    }
   ],
   "source": [
    "%cd '/home/wilber/work/Galvanize/gcp-data/lunarPhotos/originals'\n",
    "%pwd"
   ]
  },
  {
   "cell_type": "code",
   "execution_count": 14,
   "metadata": {
    "collapsed": false
   },
   "outputs": [
    {
     "name": "stdout",
     "output_type": "stream",
     "text": [
      "100\n",
      "140\n",
      "180\n",
      "220\n",
      "260\n",
      "300\n",
      "340\n",
      "380\n",
      "420\n",
      "460\n",
      "500\n",
      "540\n",
      "580\n",
      "620\n",
      "660\n",
      "700\n",
      "740\n",
      "780\n",
      "820\n",
      "860\n",
      "900\n",
      "940\n",
      "980\n",
      "1020\n",
      "1060\n",
      "1100\n",
      "1140\n",
      "1180\n",
      "1220\n",
      "1260\n",
      "1300\n",
      "1340\n",
      "1380\n",
      "1420\n",
      "1460\n",
      "1500\n",
      "1540\n",
      "1580\n",
      "1620\n",
      "1660\n",
      "1700\n",
      "1740\n"
     ]
    }
   ],
   "source": [
    "import subprocess\n",
    "for dx in range(100, 1776, 40):\n",
    "    print dx\n",
    "    for dy in range(1806, 30, -40):\n",
    "        for angle in range(0, 40, 10):\n",
    "#           subprocess.call([\"echo\", \"100x100+{0:04d}+{1:04d}-{2:03d}\".format(dx, dy, angle)])\n",
    "            subprocess.call([\"convert\", \"-crop\", \"100x100+{0}+{1}\".format(dx, dy),\n",
    "                             \"highDensityCraters1806x880+83+132LowerLeft-{0:03d}.png\".format(angle),\n",
    "                             \"hdll{0:03d}+{1:04d}+{2:04d}.png\".format(angle, dx, dy)])\n",
    "            subprocess.call([\"convert\", \"-crop\", \"100x100+{0}+{1}\".format(dx, dy),\n",
    "                             \"highDensityCraters1806x880+83+132LowerRight-{0:03d}.png\".format(angle),\n",
    "                             \"hdlr{0:03d}+{1:04d}+{2:04d}.png\".format(angle, dx, dy)])\n",
    "            subprocess.call([\"convert\", \"-crop\", \"100x100+{0}+{1}\".format(dx, dy),\n",
    "                             \"highDensityCraters1806x880+83+132MiddleMiddle-{0:03d}.png\".format(angle),\n",
    "                             \"hdmm{0:03d}+{1:04d}+{2:04d}.png\".format(angle, dx, dy)])\n",
    "            subprocess.call([\"convert\", \"-crop\", \"100x100+{0}+{1}\".format(dx, dy),\n",
    "                             \"lowDensityMare1806x880+83+132LeftMiddle-{0:03d}.png\".format(angle),\n",
    "                             \"ldlm{0:03d}+{1:04d}+{2:04d}.png\".format(angle, dx, dy)])\n",
    "#           subprocess.call([\"convert\", \"-brightness-contrast\", \"{0:6.3f}x0\".format(0.5/mean_brightness), \"tmp.png\",\n",
    "#                            \"hd+{0:04d}+{1:04d}.png\".format(dx, dy)])"
   ]
  },
  {
   "cell_type": "markdown",
   "metadata": {},
   "source": [
    "#### Repeat for wide-short and narrow-tall distortions"
   ]
  },
  {
   "cell_type": "code",
   "execution_count": 17,
   "metadata": {
    "collapsed": false
   },
   "outputs": [
    {
     "name": "stdout",
     "output_type": "stream",
     "text": [
      "100\n",
      "140\n",
      "180\n",
      "220\n",
      "260\n",
      "300\n",
      "340\n",
      "380\n",
      "420\n",
      "460\n",
      "500\n",
      "540\n",
      "580\n",
      "620\n",
      "660\n",
      "700\n",
      "740\n",
      "780\n",
      "820\n",
      "860\n",
      "900\n",
      "940\n",
      "980\n",
      "1020\n",
      "1060\n",
      "1100\n",
      "1140\n",
      "1180\n",
      "1220\n",
      "1260\n",
      "1300\n",
      "1340\n",
      "1380\n",
      "1420\n",
      "1460\n",
      "1500\n",
      "1540\n",
      "1580\n",
      "1620\n",
      "1660\n",
      "1700\n",
      "1740\n"
     ]
    }
   ],
   "source": [
    "import subprocess\n",
    "for dx in range(100, 1776, 40):\n",
    "    print dx\n",
    "    for dy in range(1806, 30, -40):\n",
    "        for angle in range(0, 40, 10):\n",
    "            subprocess.call([\"convert\", \"-crop\", \"100x100+{0}+{1}\".format(dx, dy),\n",
    "                             \"nthighDensityCraters1806x880+83+132LowerLeft-{0:03d}.png\".format(angle),\n",
    "                             \"nthdll{0:03d}+{1:04d}+{2:04d}.png\".format(angle, dx, dy)])\n",
    "            subprocess.call([\"convert\", \"-crop\", \"100x100+{0}+{1}\".format(dx, dy),\n",
    "                             \"nthighDensityCraters1806x880+83+132LowerRight-{0:03d}.png\".format(angle),\n",
    "                             \"nthdlr{0:03d}+{1:04d}+{2:04d}.png\".format(angle, dx, dy)])\n",
    "            subprocess.call([\"convert\", \"-crop\", \"100x100+{0}+{1}\".format(dx, dy),\n",
    "                             \"nthighDensityCraters1806x880+83+132MiddleMiddle-{0:03d}.png\".format(angle),\n",
    "                             \"nthdmm{0:03d}+{1:04d}+{2:04d}.png\".format(angle, dx, dy)])\n",
    "            subprocess.call([\"convert\", \"-crop\", \"100x100+{0}+{1}\".format(dx, dy),\n",
    "                             \"ntlowDensityMare1806x880+83+132LeftMiddle-{0:03d}.png\".format(angle),\n",
    "                             \"ntldlm{0:03d}+{1:04d}+{2:04d}.png\".format(angle, dx, dy)])\n",
    "            subprocess.call([\"convert\", \"-crop\", \"100x100+{0}+{1}\".format(dx, dy),\n",
    "                             \"wshighDensityCraters1806x880+83+132LowerLeft-{0:03d}.png\".format(angle),\n",
    "                             \"wshdll{0:03d}+{1:04d}+{2:04d}.png\".format(angle, dx, dy)])\n",
    "            subprocess.call([\"convert\", \"-crop\", \"100x100+{0}+{1}\".format(dx, dy),\n",
    "                             \"wshighDensityCraters1806x880+83+132LowerRight-{0:03d}.png\".format(angle),\n",
    "                             \"wshdlr{0:03d}+{1:04d}+{2:04d}.png\".format(angle, dx, dy)])\n",
    "            subprocess.call([\"convert\", \"-crop\", \"100x100+{0}+{1}\".format(dx, dy),\n",
    "                             \"wshighDensityCraters1806x880+83+132MiddleMiddle-{0:03d}.png\".format(angle),\n",
    "                             \"wshdmm{0:03d}+{1:04d}+{2:04d}.png\".format(angle, dx, dy)])\n",
    "            subprocess.call([\"convert\", \"-crop\", \"100x100+{0}+{1}\".format(dx, dy),\n",
    "                             \"wslowDensityMare1806x880+83+132LeftMiddle-{0:03d}.png\".format(angle),\n",
    "                             \"wsldlm{0:03d}+{1:04d}+{2:04d}.png\".format(angle, dx, dy)])\n"
   ]
  },
  {
   "cell_type": "code",
   "execution_count": 19,
   "metadata": {
    "collapsed": false
   },
   "outputs": [
    {
     "name": "stdout",
     "output_type": "stream",
     "text": [
      "/home/wilber/work/Galvanize/gcp-data/lunarPhotos/originals\n"
     ]
    },
    {
     "data": {
      "text/plain": [
       "u'/home/wilber/work/Galvanize/gcp-data/lunarPhotos/originals'"
      ]
     },
     "execution_count": 19,
     "metadata": {},
     "output_type": "execute_result"
    }
   ],
   "source": [
    "%cd '/home/wilber/work/Galvanize/gcp-data/lunarPhotos/originals'\n",
    "%pwd"
   ]
  },
  {
   "cell_type": "markdown",
   "metadata": {},
   "source": [
    "#### Move every 4th image to ../100x100/test (manually moving the remainder to ../100x100/train):"
   ]
  },
  {
   "cell_type": "code",
   "execution_count": 23,
   "metadata": {
    "collapsed": false
   },
   "outputs": [],
   "source": [
    "import subprocess\n",
    "\n",
    "i = 0\n",
    "for dx in range(100, 1776, 40):\n",
    "    for dy in range(1806, 30, -40):\n",
    "        i += 1\n",
    "        if i % 4 == 0:\n",
    "            for angle in range(0, 40, 10):\n",
    "                subprocess.call(['mv', \"ldlm{0:03d}+{1:04d}+{2:04d}.png\".format(angle, dx, dy), \"../100x100/test/\"])\n",
    "                subprocess.call(['mv', \"hdll{0:03d}+{1:04d}+{2:04d}.png\".format(angle, dx, dy), \"../100x100/test/\"])\n",
    "                subprocess.call(['mv', \"hdlr{0:03d}+{1:04d}+{2:04d}.png\".format(angle, dx, dy), \"../100x100/test/\"])\n",
    "                subprocess.call(['mv', \"hdmm{0:03d}+{1:04d}+{2:04d}.png\".format(angle, dx, dy), \"../100x100/test/\"])\n",
    "                subprocess.call(['mv', \"ntldlm{0:03d}+{1:04d}+{2:04d}.png\".format(angle, dx, dy), \"../100x100/test/\"])\n",
    "                subprocess.call(['mv', \"nthdll{0:03d}+{1:04d}+{2:04d}.png\".format(angle, dx, dy), \"../100x100/test/\"])\n",
    "                subprocess.call(['mv', \"nthdlr{0:03d}+{1:04d}+{2:04d}.png\".format(angle, dx, dy), \"../100x100/test/\"])\n",
    "                subprocess.call(['mv', \"nthdmm{0:03d}+{1:04d}+{2:04d}.png\".format(angle, dx, dy), \"../100x100/test/\"])\n",
    "                subprocess.call(['mv', \"wsldlm{0:03d}+{1:04d}+{2:04d}.png\".format(angle, dx, dy), \"../100x100/test/\"])\n",
    "                subprocess.call(['mv', \"wshdll{0:03d}+{1:04d}+{2:04d}.png\".format(angle, dx, dy), \"../100x100/test/\"])\n",
    "                subprocess.call(['mv', \"wshdlr{0:03d}+{1:04d}+{2:04d}.png\".format(angle, dx, dy), \"../100x100/test/\"])\n",
    "                subprocess.call(['mv', \"wshdmm{0:03d}+{1:04d}+{2:04d}.png\".format(angle, dx, dy), \"../100x100/test/\"])"
   ]
  },
  {
   "cell_type": "code",
   "execution_count": null,
   "metadata": {
    "collapsed": true
   },
   "outputs": [],
   "source": []
  }
 ],
 "metadata": {
  "kernelspec": {
   "display_name": "Python 2",
   "language": "python",
   "name": "python2"
  },
  "language_info": {
   "codemirror_mode": {
    "name": "ipython",
    "version": 2
   },
   "file_extension": ".py",
   "mimetype": "text/x-python",
   "name": "python",
   "nbconvert_exporter": "python",
   "pygments_lexer": "ipython2",
   "version": "2.7.8"
  }
 },
 "nbformat": 4,
 "nbformat_minor": 0
}
