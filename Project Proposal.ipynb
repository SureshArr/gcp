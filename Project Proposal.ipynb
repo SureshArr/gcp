{
 "cells": [
  {
   "cell_type": "markdown",
   "metadata": {},
   "source": [
    "##Crime, there's so much crime\n",
    "\n",
    "###Many cities now have open data initiatives, providing policing and crime data via downloadable files or Socrata APIs. These case data are linked to location, and in some instances, to census tracts. The goal is to use the data to forecast likelihood of crimes by census tract and time, with an ultimate objective of detecting anomalous surges in activity."
   ]
  },
  {
   "cell_type": "markdown",
   "metadata": {},
   "source": [
    "###Objectives:\n",
    "\n",
    "####Basic exploratory data analysis will focus on *separately* examining the spatial and temporal distribution of crime.\n",
    "\n",
    "* Spatial analysis:\n",
    "  * spatial studies will show where crimes of specific types occur, and will provide guidance for how to aggregate data in space to capture statistically valid breakdowns.\n",
    "  * This in turn may permit anomaly detection in regions of lower crime, when fluctuations in city-wide data may swamp an effect.\n",
    "  * This will also make it possible to associate local demographic factors in models of where and why crimes occur.  \n",
    "    \n",
    "* temporal variability will be used to examine seasonalities, as well as long term trends and event-based changes to incident rates:\n",
    "  * We might expect some crimes to preferentially occur on certain days of the week or times of the year, or perhaps shortly after the issuance of monthly social security payments.\n",
    "  * Incident rates may be linked to sporting events and festivals, as well as to political shocks, such as that following the death of Freddie Gray in police custody in Baltimore.\n",
    "\n",
    "####While social scientists have long studied demographic factors leading to crime, we will apply machine learning methods to identify factors leading to incidents of crime.\n",
    "\n",
    "####A final objective will be to apply knowledge of variations discovered in the above processes to 'de-trend' data so that anomalous variations in newer data can be detected.**\n",
    "\n",
    "* Demonstrations and unrest following the death of Freddie Gray in Baltimore while in police custody on 12 April 2015 should provide a valuable opportunity to validate anomaly detection."
   ]
  },
  {
   "cell_type": "markdown",
   "metadata": {},
   "source": [
    "###Data:\n",
    "\n",
    "* Initially the data explored will be from [Seattle](https://data.seattle.gov/browse?category=Public+Safety), [Baltimore](https://data.baltimorecity.gov/browse?category=Public%20Safety) and [Oakland, CA](https://data.oaklandnet.com/browse?category=Public%20Safety), although data from [several other cities](https://opendata.socrata.com/dataset/Socrata-Customer-Spotlights/6wk3-4ija) are available and may be used if time permits and intercomparison seems likely to be interesting.\n",
    "\n",
    "* The Seattle data provide summary data from police reports dating from 17 June 2009 through the present, indicating the nature of the crime and locations. US Census tract IDs are also provided for each crime, making it easy to associate demographic data with each event. For other cities that do not associate census tracts to locations, the US Census Bureau's [Geocoder API](https://www.census.gov/geo/maps-data/data/geocoder.html) makes address $\\rightarrow$ census tract look-ups straightforward.\n",
    "\n",
    "\n",
    "* In addition to basic demographic data obtained from the Constitutionally mandated [http://www.census.gov/mp/www/cat/decennial_census_2010/](decadal population-level surveys), the US Census Bureau is the official source of information relating to business, the economy, education, employment and other topics. These data are available through the Bureau's [Data Tools API](http://www.census.gov/data/data-tools.html). Sample-based surveys (3 1/2 million households) provide [information that is more up-to-date](http://www.census.gov/programs-surveys/acs/).\n",
    "\n",
    "* Shape files for census tracts (and larger-scale political boundaries) are available from the Census, and will be used for visualizations.,\n",
    "\n",
    "* A relevant question remains: *What data in the wild can be added to make this project more interesting from the perspective of machine learning?*"
   ]
  },
  {
   "cell_type": "markdown",
   "metadata": {},
   "source": [
    "###1. Data pipelines\n",
    "\n",
    "* Mostly this consists of downloading data either as CSV files, or via Socrata APIs, aggregating counts of incidents by census tract and type of crime, and joining with census data (probably in Pandas).\n",
    "\n",
    "* Exploratory analyses will include spatial plots to show incidents as a function of location and type of crime, as well as time-series analyses.\n",
    "\n",
    "* Initially, exploration of seasonalities by census tract will be done by segmenting data by, eg., day of week, or day of the month, to see if incident rates can be found be statistically dependent.\n",
    "\n",
    "###2. Anticipating problems\n",
    "\n",
    "* I will need to learn new techniques to appropriately identify event-based incidents, and account for them in any anomaly detection. (This will likely be an on-going process with guidance from Ben.)\n",
    "\n",
    "* At present there is great uncertainty in whether the data will support anomaly detection.\n",
    "  * noise in city-wide aggregated data may overwhelm localized trends, while\n",
    "  * census tract-level data may be too noisy to allow for reliable discrimination of time variablility\n",
    "  * it would be good to identify suitable ways to aggregate locales to make trend identification stronger\n",
    "\n",
    "* Absent viable anomaly detection, this will be a data analysis project, rather than a data science project.\n",
    "\n",
    "###3. How far this will go\n",
    "\n",
    "* All effort will be dedicated toward getting the anomaly-detection phase of this project operational (see comment immediately preceding).\n",
    "\n",
    "* If anomaly detection fails, there may be some interesting results falling out of the event-based and location-based incident analyses. (But perhaps nothing that would surprise the local police departments.)\n",
    "\n",
    "###4. Other tools, datasets\n",
    "\n",
    "* Use of R time-series analysis packages may be needed\n",
    "* Numerous visualization packages are available, including [mapbox](http://mapbox.com) for spatial representations.\n",
    "\n",
    "###5. Availability of/access to data\n",
    "\n",
    "* I anticipate few difficulties obtaining data, as those currently under consideration are easy to obtain."
   ]
  }
 ],
 "metadata": {
  "kernelspec": {
   "display_name": "Python 2",
   "language": "python",
   "name": "python2"
  },
  "language_info": {
   "codemirror_mode": {
    "name": "ipython",
    "version": 2
   },
   "file_extension": ".py",
   "mimetype": "text/x-python",
   "name": "python",
   "nbconvert_exporter": "python",
   "pygments_lexer": "ipython2",
   "version": "2.7.10"
  }
 },
 "nbformat": 4,
 "nbformat_minor": 0
}
