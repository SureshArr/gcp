{
 "cells": [
  {
   "cell_type": "markdown",
   "metadata": {},
   "source": [
    "#### Load images from test and train directories, re-size just in case there are odd-sized images."
   ]
  },
  {
   "cell_type": "code",
   "execution_count": 1,
   "metadata": {
    "collapsed": false
   },
   "outputs": [
    {
     "name": "stderr",
     "output_type": "stream",
     "text": [
      "[INFO] This trial license of GraphLab Create is assigned to trephine1@yahoo.com and will expire on October 12, 2015. Please contact trial@dato.com for licensing options or to request a free non-commercial license for personal or academic use.\n",
      "\n",
      "[INFO] Start server at: ipc:///tmp/graphlab_server-20561 - Server binary: /home/wilber/work/Galvanize/dato-env/lib/python2.7/site-packages/graphlab/unity_server - Server log: /tmp/graphlab_server_1442272918.log\n",
      "[INFO] GraphLab Server Version: 1.5.2\n"
     ]
    }
   ],
   "source": [
    "import graphlab as gl\n",
    "WORKING_DIR = '/home/wilber/work/Galvanize/gcp-data/lunarPhotos/100x100'\n",
    "train_sf = gl.image_analysis.load_images(WORKING_DIR + '/train',\n",
    "                                         random_order=True)\n",
    "train_sf['image'] = gl.image_analysis.resize(train_sf['image'], 256, 256)\n",
    "test_sf = gl.image_analysis.load_images(WORKING_DIR + '/test',\n",
    "                                        random_order=True)\n",
    "test_sf['image'] = gl.image_analysis.resize(test_sf['image'], 256, 256)"
   ]
  },
  {
   "cell_type": "markdown",
   "metadata": {},
   "source": [
    "#### Generate labels"
   ]
  },
  {
   "cell_type": "code",
   "execution_count": 2,
   "metadata": {
    "collapsed": false
   },
   "outputs": [
    {
     "name": "stdout",
     "output_type": "stream",
     "text": [
      "[0, 1, 1, 1, 0, 0, 1, 1, 1, 1, 0, 0, 1, 0, 0, 0, 0, 1, 0, 0, 1, 1, 0, 0, 0, 0, 1, 1, 1, 0, 0, 1, 0, 1, 1, 0, 0, 1, 0, 0]\n",
      "[1, 0, 1, 1, 0, 1, 0, 1, 1, 1, 0, 1, 1, 1, 0, 0, 0, 1, 1, 1, 0, 1, 0, 0, 0, 1, 1, 1, 0, 0, 1, 1, 0, 1, 1, 0, 0, 1, 1, 1]\n"
     ]
    }
   ],
   "source": [
    "train_sf['label'] = train_sf['path'].apply(lambda x: 1 if x.split('/')[-1].startswith('h') else 0)\n",
    "test_sf['label'] = test_sf['path'].apply(lambda x: 1 if x.split('/')[-1].startswith('h') else 0)\n",
    "print train_sf['label'].head(40)\n",
    "print test_sf['label'].head(40)\n",
    "train_sf.save(WORKING_DIR + '/sframe/train_shuffle')\n",
    "test_sf.save(WORKING_DIR + '/sframe/test_shuffle')"
   ]
  },
  {
   "cell_type": "code",
   "execution_count": 3,
   "metadata": {
    "collapsed": false
   },
   "outputs": [
    {
     "name": "stderr",
     "output_type": "stream",
     "text": [
      "[WARNING] This Python session does not appear to be running in an interactive IPython Notebook. Use of the 'ipynb' target may behave unexpectedly or result in errors.\n"
     ]
    },
    {
     "data": {
      "text/html": [
       "<div style=\"max-height:1000px;max-width:1500px;overflow:auto;\"><table frame=\"box\" rules=\"cols\">\n",
       "    <tr>\n",
       "        <th style=\"padding-left: 1em; padding-right: 1em; text-align: center\">path</th>\n",
       "        <th style=\"padding-left: 1em; padding-right: 1em; text-align: center\">image</th>\n",
       "        <th style=\"padding-left: 1em; padding-right: 1em; text-align: center\">label</th>\n",
       "    </tr>\n",
       "    <tr>\n",
       "        <td style=\"padding-left: 1em; padding-right: 1em; text-align: center; vertical-align: top\">/home/wilber/work/Galvani<br>ze/gcp-data/lunarPhot ...</td>\n",
       "        <td style=\"padding-left: 1em; padding-right: 1em; text-align: center; vertical-align: top\">Height: 256 Width: 256</td>\n",
       "        <td style=\"padding-left: 1em; padding-right: 1em; text-align: center; vertical-align: top\">0</td>\n",
       "    </tr>\n",
       "    <tr>\n",
       "        <td style=\"padding-left: 1em; padding-right: 1em; text-align: center; vertical-align: top\">/home/wilber/work/Galvani<br>ze/gcp-data/lunarPhot ...</td>\n",
       "        <td style=\"padding-left: 1em; padding-right: 1em; text-align: center; vertical-align: top\">Height: 256 Width: 256</td>\n",
       "        <td style=\"padding-left: 1em; padding-right: 1em; text-align: center; vertical-align: top\">1</td>\n",
       "    </tr>\n",
       "    <tr>\n",
       "        <td style=\"padding-left: 1em; padding-right: 1em; text-align: center; vertical-align: top\">/home/wilber/work/Galvani<br>ze/gcp-data/lunarPhot ...</td>\n",
       "        <td style=\"padding-left: 1em; padding-right: 1em; text-align: center; vertical-align: top\">Height: 256 Width: 256</td>\n",
       "        <td style=\"padding-left: 1em; padding-right: 1em; text-align: center; vertical-align: top\">1</td>\n",
       "    </tr>\n",
       "    <tr>\n",
       "        <td style=\"padding-left: 1em; padding-right: 1em; text-align: center; vertical-align: top\">/home/wilber/work/Galvani<br>ze/gcp-data/lunarPhot ...</td>\n",
       "        <td style=\"padding-left: 1em; padding-right: 1em; text-align: center; vertical-align: top\">Height: 256 Width: 256</td>\n",
       "        <td style=\"padding-left: 1em; padding-right: 1em; text-align: center; vertical-align: top\">1</td>\n",
       "    </tr>\n",
       "    <tr>\n",
       "        <td style=\"padding-left: 1em; padding-right: 1em; text-align: center; vertical-align: top\">/home/wilber/work/Galvani<br>ze/gcp-data/lunarPhot ...</td>\n",
       "        <td style=\"padding-left: 1em; padding-right: 1em; text-align: center; vertical-align: top\">Height: 256 Width: 256</td>\n",
       "        <td style=\"padding-left: 1em; padding-right: 1em; text-align: center; vertical-align: top\">0</td>\n",
       "    </tr>\n",
       "    <tr>\n",
       "        <td style=\"padding-left: 1em; padding-right: 1em; text-align: center; vertical-align: top\">/home/wilber/work/Galvani<br>ze/gcp-data/lunarPhot ...</td>\n",
       "        <td style=\"padding-left: 1em; padding-right: 1em; text-align: center; vertical-align: top\">Height: 256 Width: 256</td>\n",
       "        <td style=\"padding-left: 1em; padding-right: 1em; text-align: center; vertical-align: top\">0</td>\n",
       "    </tr>\n",
       "    <tr>\n",
       "        <td style=\"padding-left: 1em; padding-right: 1em; text-align: center; vertical-align: top\">/home/wilber/work/Galvani<br>ze/gcp-data/lunarPhot ...</td>\n",
       "        <td style=\"padding-left: 1em; padding-right: 1em; text-align: center; vertical-align: top\">Height: 256 Width: 256</td>\n",
       "        <td style=\"padding-left: 1em; padding-right: 1em; text-align: center; vertical-align: top\">1</td>\n",
       "    </tr>\n",
       "    <tr>\n",
       "        <td style=\"padding-left: 1em; padding-right: 1em; text-align: center; vertical-align: top\">/home/wilber/work/Galvani<br>ze/gcp-data/lunarPhot ...</td>\n",
       "        <td style=\"padding-left: 1em; padding-right: 1em; text-align: center; vertical-align: top\">Height: 256 Width: 256</td>\n",
       "        <td style=\"padding-left: 1em; padding-right: 1em; text-align: center; vertical-align: top\">1</td>\n",
       "    </tr>\n",
       "    <tr>\n",
       "        <td style=\"padding-left: 1em; padding-right: 1em; text-align: center; vertical-align: top\">/home/wilber/work/Galvani<br>ze/gcp-data/lunarPhot ...</td>\n",
       "        <td style=\"padding-left: 1em; padding-right: 1em; text-align: center; vertical-align: top\">Height: 256 Width: 256</td>\n",
       "        <td style=\"padding-left: 1em; padding-right: 1em; text-align: center; vertical-align: top\">1</td>\n",
       "    </tr>\n",
       "    <tr>\n",
       "        <td style=\"padding-left: 1em; padding-right: 1em; text-align: center; vertical-align: top\">/home/wilber/work/Galvani<br>ze/gcp-data/lunarPhot ...</td>\n",
       "        <td style=\"padding-left: 1em; padding-right: 1em; text-align: center; vertical-align: top\">Height: 256 Width: 256</td>\n",
       "        <td style=\"padding-left: 1em; padding-right: 1em; text-align: center; vertical-align: top\">1</td>\n",
       "    </tr>\n",
       "</table>\n",
       "[10 rows x 3 columns]<br/>\n",
       "</div>"
      ],
      "text/plain": [
       "Columns:\n",
       "\tpath\tstr\n",
       "\timage\tImage\n",
       "\tlabel\tint\n",
       "\n",
       "Rows: 10\n",
       "\n",
       "Data:\n",
       "+-------------------------------+------------------------+-------+\n",
       "|              path             |         image          | label |\n",
       "+-------------------------------+------------------------+-------+\n",
       "| /home/wilber/work/Galvaniz... | Height: 256 Width: 256 |   0   |\n",
       "| /home/wilber/work/Galvaniz... | Height: 256 Width: 256 |   1   |\n",
       "| /home/wilber/work/Galvaniz... | Height: 256 Width: 256 |   1   |\n",
       "| /home/wilber/work/Galvaniz... | Height: 256 Width: 256 |   1   |\n",
       "| /home/wilber/work/Galvaniz... | Height: 256 Width: 256 |   0   |\n",
       "| /home/wilber/work/Galvaniz... | Height: 256 Width: 256 |   0   |\n",
       "| /home/wilber/work/Galvaniz... | Height: 256 Width: 256 |   1   |\n",
       "| /home/wilber/work/Galvaniz... | Height: 256 Width: 256 |   1   |\n",
       "| /home/wilber/work/Galvaniz... | Height: 256 Width: 256 |   1   |\n",
       "| /home/wilber/work/Galvaniz... | Height: 256 Width: 256 |   1   |\n",
       "+-------------------------------+------------------------+-------+\n",
       "[10 rows x 3 columns]"
      ]
     },
     "execution_count": 3,
     "metadata": {},
     "output_type": "execute_result"
    }
   ],
   "source": [
    "gl.canvas.set_target('ipynb')\n",
    "train = gl.SFrame(WORKING_DIR + '/sframe/train_shuffle')\n",
    "train.head()"
   ]
  },
  {
   "cell_type": "markdown",
   "metadata": {},
   "source": [
    "#### subtract mean image from training data:"
   ]
  },
  {
   "cell_type": "code",
   "execution_count": 4,
   "metadata": {
    "collapsed": false
   },
   "outputs": [
    {
     "data": {
      "text/plain": [
       "Height: 256px\n",
       "Width: 256px\n",
       "Channels: 3"
      ]
     },
     "execution_count": 4,
     "metadata": {},
     "output_type": "execute_result"
    }
   ],
   "source": [
    "# mean_image = train['image'].mean()\n",
    "# gl.SArray([mean_image]).save(WORKING_DIR + '/sframe/mean_image')\n",
    "mean_image = gl.SArray(WORKING_DIR + '/sframe/mean_image')[0]\n",
    "mean_image"
   ]
  },
  {
   "cell_type": "markdown",
   "metadata": {},
   "source": [
    "#### Obtain a NerualNet object from the builtin networks in the deeplearing toolkit.\n",
    "#### The \"imagenet\" NeuralNet is derived from Krizhevsky, Alex, Ilya Sutskever, and Geoffrey E. Hinton, 2012."
   ]
  },
  {
   "cell_type": "code",
   "execution_count": 5,
   "metadata": {
    "collapsed": false
   },
   "outputs": [
    {
     "data": {
      "text/plain": [
       "\n",
       "### network layers ###\n",
       "layer[0]: ConvolutionLayer\n",
       "  init_random = gaussian\n",
       "  padding = 0\n",
       "  stride = 4\n",
       "  num_channels = 96\n",
       "  num_groups = 1\n",
       "  kernel_size = 11\n",
       "layer[1]: RectifiedLinearLayer\n",
       "layer[2]: MaxPoolingLayer\n",
       "  padding = 0\n",
       "  stride = 2\n",
       "  kernel_size = 3\n",
       "layer[3]: LocalResponseNormalizationLayer\n",
       "  alpha = 0.001\n",
       "  beta = 0.75\n",
       "  knorm = 1\n",
       "  local_size = 5\n",
       "layer[4]: ConvolutionLayer\n",
       "  init_random = gaussian\n",
       "  padding = 2\n",
       "  stride = 1\n",
       "  num_channels = 256\n",
       "  num_groups = 2\n",
       "  kernel_size = 5\n",
       "layer[5]: RectifiedLinearLayer\n",
       "layer[6]: MaxPoolingLayer\n",
       "  padding = 0\n",
       "  stride = 2\n",
       "  kernel_size = 3\n",
       "layer[7]: LocalResponseNormalizationLayer\n",
       "  alpha = 0.001\n",
       "  beta = 0.75\n",
       "  knorm = 1\n",
       "  local_size = 5\n",
       "layer[8]: ConvolutionLayer\n",
       "  init_random = gaussian\n",
       "  padding = 1\n",
       "  stride = 1\n",
       "  num_channels = 384\n",
       "  num_groups = 1\n",
       "  kernel_size = 3\n",
       "layer[9]: RectifiedLinearLayer\n",
       "layer[10]: ConvolutionLayer\n",
       "  init_random = gaussian\n",
       "  padding = 1\n",
       "  stride = 1\n",
       "  num_channels = 384\n",
       "  num_groups = 2\n",
       "  kernel_size = 3\n",
       "layer[11]: RectifiedLinearLayer\n",
       "layer[12]: ConvolutionLayer\n",
       "  init_random = gaussian\n",
       "  padding = 1\n",
       "  stride = 1\n",
       "  init_bias = 1.0\n",
       "  num_channels = 256\n",
       "  num_groups = 2\n",
       "  kernel_size = 3\n",
       "layer[13]: RectifiedLinearLayer\n",
       "layer[14]: MaxPoolingLayer\n",
       "  padding = 0\n",
       "  stride = 2\n",
       "  kernel_size = 3\n",
       "layer[15]: FlattenLayer\n",
       "layer[16]: FullConnectionLayer\n",
       "  init_sigma = 0.005\n",
       "  init_random = gaussian\n",
       "  init_bias = 1.0\n",
       "  num_hidden_units = 4096\n",
       "layer[17]: RectifiedLinearLayer\n",
       "layer[18]: DropoutLayer\n",
       "  threshold = 0.5\n",
       "layer[19]: FullConnectionLayer\n",
       "  init_sigma = 0.005\n",
       "  init_random = gaussian\n",
       "  init_bias = 1.0\n",
       "  num_hidden_units = 4096\n",
       "layer[20]: RectifiedLinearLayer\n",
       "layer[21]: DropoutLayer\n",
       "  threshold = 0.5\n",
       "layer[22]: FullConnectionLayer\n",
       "  init_sigma = 0.01\n",
       "  init_random = gaussian\n",
       "  init_bias = 0\n",
       "  num_hidden_units = 1000\n",
       "layer[23]: SoftmaxLayer\n",
       "### end network layers ###\n",
       "\n",
       "### network parameters ###\n",
       "init_random = gaussian\n",
       "learning_rate = 0.01\n",
       "input_shape = 3,227,227\n",
       "learning_rate_gamma = 0.1\n",
       "learning_rate_schedule = exponential_decay\n",
       "random_mirror = 1\n",
       "learning_rate_step = 100000\n",
       "random_crop = 1\n",
       "init_sigma = 0.01\n",
       "bias_learning_rate = 0.02\n",
       "l2_regularization = 0.0005\n",
       "momentum = 0.9\n",
       "### end network parameters ###"
      ]
     },
     "execution_count": 5,
     "metadata": {},
     "output_type": "execute_result"
    }
   ],
   "source": [
    "net = gl.deeplearning.get_builtin_neuralnet('imagenet')\n",
    "net"
   ]
  },
  {
   "cell_type": "code",
   "execution_count": 6,
   "metadata": {
    "collapsed": false
   },
   "outputs": [
    {
     "data": {
      "text/plain": [
       "True"
      ]
     },
     "execution_count": 6,
     "metadata": {},
     "output_type": "execute_result"
    }
   ],
   "source": [
    "net.layers[-2].num_hidden_units = 2.\n",
    "net.verify()"
   ]
  },
  {
   "cell_type": "markdown",
   "metadata": {},
   "source": [
    "#### Train!"
   ]
  },
  {
   "cell_type": "code",
   "execution_count": null,
   "metadata": {
    "collapsed": false,
    "scrolled": true
   },
   "outputs": [],
   "source": [
    "import time\n",
    "start = time.time()\n",
    "m = gl.neuralnet_classifier.create(train[['image', 'label']],                      \n",
    "                                   target='label',\n",
    "#                                  input_shape=[100, 100, 3],\n",
    "#                                  output_shape=2,\n",
    "                                   network=net,                                    \n",
    "                                   mean_image=mean_image,                          \n",
    "                                   metric=['accuracy','precision'],                 \n",
    "                                   max_iterations=35,                              \n",
    "                                   model_checkpoint_path=WORKING_DIR\n",
    "                                     + '/result/model_checkpoint',\n",
    "                                   model_checkpoint_interval=5,                    \n",
    "                                   batch_size=50)\n",
    "totsecs = time.time() - start\n",
    "hours = int(totsecs/3600)\n",
    "mins = int((totsecs - 3600.*hours)/60)\n",
    "secs = totsecs - 3600.*hours - 60.*mins\n",
    "print \"Elapsed time = {0} hours, {1} minutes, {2} seconds\".format(hours, mins, secs)"
   ]
  },
  {
   "cell_type": "markdown",
   "metadata": {},
   "source": []
  },
  {
   "cell_type": "code",
   "execution_count": null,
   "metadata": {
    "collapsed": false
   },
   "outputs": [],
   "source": [
    "gl.canvas.set_target('ipynb')\n",
    "test = gl.SFrame(WORKING_DIR + '/sframe/train_shuffle')\n",
    "test.head()"
   ]
  },
  {
   "cell_type": "code",
   "execution_count": null,
   "metadata": {
    "collapsed": false
   },
   "outputs": [],
   "source": [
    "# Random split the training-data\n",
    "training_data, validation_data = data.random_split(0.8)\n",
    "\n",
    "# Make sure all images are of the same size (Required by Neuralnets)\n",
    "for sf in [training_data, validation_data, test_data]:\n",
    "  sf['image'] = gl.image_analysis.resize(sf['image'], 100, 100, 1)\n",
    "\n",
    "net = gl.deeplearning.get_builtin_neuralnet('mnist')\n",
    "\n",
    "print \"Layers of the network \"\n",
    "print \"--------------------------------------------------------\"\n",
    "print net.layers\n",
    "\n",
    "print \"Parameters of the network \"\n",
    "print \"--------------------------------------------------------\"\n",
    "print net.params"
   ]
  },
  {
   "cell_type": "code",
   "execution_count": null,
   "metadata": {
    "collapsed": false
   },
   "outputs": [],
   "source": [
    "model = gl.neuralnet_classifier.create(training_data, target='label',\n",
    "                                         network = net,\n",
    "                                         validation_set=validation_data,\n",
    "                                         metric=['accuracy', 'recall@2'],\n",
    "                                         max_iterations=3)"
   ]
  },
  {
   "cell_type": "code",
   "execution_count": null,
   "metadata": {
    "collapsed": false
   },
   "outputs": [],
   "source": [
    "predictions = model.classify(test_data)\n",
    "print predictions"
   ]
  },
  {
   "cell_type": "code",
   "execution_count": null,
   "metadata": {
    "collapsed": false
   },
   "outputs": [],
   "source": [
    "pred_top2 = model.predict_topk(test_data, k=2)\n",
    "print pred_top2"
   ]
  },
  {
   "cell_type": "code",
   "execution_count": null,
   "metadata": {
    "collapsed": false
   },
   "outputs": [],
   "source": [
    "result = model.evaluate(test_data)\n",
    "print \"Accuracy         : %s\" % result['accuracy']\n",
    "print \"Confusion Matrix : \\n%s\" % result['confusion_matrix']"
   ]
  },
  {
   "cell_type": "markdown",
   "metadata": {},
   "source": [
    "### Comment: effing impressive. Training/optimizing an Octave-based model to do barely a hair better took me weeks."
   ]
  },
  {
   "cell_type": "code",
   "execution_count": null,
   "metadata": {
    "collapsed": true
   },
   "outputs": [],
   "source": []
  }
 ],
 "metadata": {
  "kernelspec": {
   "display_name": "Python 2",
   "language": "python",
   "name": "python2"
  },
  "language_info": {
   "codemirror_mode": {
    "name": "ipython",
    "version": 2
   },
   "file_extension": ".py",
   "mimetype": "text/x-python",
   "name": "python",
   "nbconvert_exporter": "python",
   "pygments_lexer": "ipython2",
   "version": "2.7.8"
  }
 },
 "nbformat": 4,
 "nbformat_minor": 0
}
